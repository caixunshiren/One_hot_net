{
 "cells": [
  {
   "cell_type": "code",
   "execution_count": 64,
   "metadata": {},
   "outputs": [
    {
     "data": {
      "text/plain": [
       "<torch._C.Generator at 0x229719931d0>"
      ]
     },
     "execution_count": 64,
     "metadata": {},
     "output_type": "execute_result"
    }
   ],
   "source": [
    "import torch\n",
    "import torchvision\n",
    "import torchvision.transforms as transforms\n",
    "import torch.nn as nn\n",
    "import torch.nn.functional as F\n",
    "import numpy as np\n",
    "torch.cuda.empty_cache()\n",
    "\n",
    "random_seed = 0\n",
    "torch.manual_seed(random_seed)"
   ]
  },
  {
   "cell_type": "code",
   "execution_count": 85,
   "metadata": {},
   "outputs": [],
   "source": [
    "classes = 94\n",
    "skdim = 10\n",
    "noise = 2\n",
    "import os    \n",
    "os.environ['KMP_DUPLICATE_LIB_OK']='True'"
   ]
  },
  {
   "cell_type": "code",
   "execution_count": 86,
   "metadata": {},
   "outputs": [],
   "source": [
    "def uniform_initializer(out_dim, in_dim, cuda = True):\n",
    "    tensor = torch.empty(out_dim, in_dim)\n",
    "    if cuda:\n",
    "        return torch.nn.init.uniform_(tensor, a=-2, b=2).cuda()\n",
    "    else: \n",
    "        return torch.nn.init.uniform_(tensor, a=-2, b=2)\n",
    "\n",
    "def uniform_initializer2(out_dim, in_dim, cuda = True):\n",
    "    tensor = torch.empty(out_dim, in_dim)\n",
    "    if cuda:\n",
    "        return torch.nn.init.uniform_(tensor, a=-0.5, b=0.5).cuda()\n",
    "    else: \n",
    "        return torch.nn.init.uniform_(tensor, a=-0.5, b=0.5)"
   ]
  },
  {
   "cell_type": "code",
   "execution_count": 87,
   "metadata": {},
   "outputs": [
    {
     "name": "stdout",
     "output_type": "stream",
     "text": [
      "torch.Size([10, 94])\n"
     ]
    }
   ],
   "source": [
    "#secret keys\n",
    "#ascii 0-94\n",
    "secret_key = uniform_initializer(skdim, classes)\n",
    "print(secret_key.shape)"
   ]
  },
  {
   "cell_type": "code",
   "execution_count": 88,
   "metadata": {},
   "outputs": [],
   "source": [
    "# noise \n",
    "def apply_gaussian_noise(tensor, sd, device = torch.device(\"cuda:0\")):\n",
    "    tensor = tensor + (sd)*torch.randn(*tuple(tensor.shape)).to(device)\n",
    "    return tensor\n",
    "\n",
    "class simple_encoder_wthreshold():\n",
    "    def __init__(self, out_dim, in_dim, epsilon, cuda = True):\n",
    "        self.W = uniform_initializer(out_dim, in_dim, cuda)\n",
    "        self.device = torch.device(\"cuda:0\") if cuda else torch.device(\"cpu\")\n",
    "        self.epsilon = epsilon\n",
    "        \n",
    "    def apply(self, X):\n",
    "        return (torch.matmul(self.W, X) > self.epsilon).float()\n",
    "    \n",
    "    def apply_wnoise(self, X, sd):\n",
    "        #print(X.shape, self.W.shape)\n",
    "        if sd == 0:\n",
    "            return self.apply(X)\n",
    "        return (torch.matmul(apply_gaussian_noise(self.W, sd, device = self.device), X) > self.epsilon).float()\n",
    "    \n"
   ]
  },
  {
   "cell_type": "code",
   "execution_count": 89,
   "metadata": {},
   "outputs": [],
   "source": [
    "#One hot net    \n",
    "\n",
    "class One_hot_net(nn.Module):\n",
    "    def __init__(self, in_dim, n_class, f_encoder, encoder_multiplier, f_initializer, epsilon):\n",
    "        super(One_hot_net, self).__init__()\n",
    "        self.in_dim = in_dim\n",
    "        feature_len = in_dim * encoder_multiplier\n",
    "        self.feature_len = feature_len\n",
    "        self.epsilon = epsilon\n",
    "        self.n_class = n_class\n",
    "        self.f_encoder = f_encoder\n",
    "        self.f_initializer = f_initializer\n",
    "        self.tail = nn.Linear(feature_len, n_class)\n",
    "\n",
    "    def forward(self, X):\n",
    "        X = self.f_encoder.apply_wnoise(X, noise)\n",
    "        X = torch.transpose(X, 0, 1)\n",
    "        X = self.tail(X)\n",
    "        return X.transpose(1,0)\n",
    "    \n",
    "    def decrypt(self, X):\n",
    "        X = torch.transpose(X, 0, 1)\n",
    "        X = self.tail(X)\n",
    "        return X.transpose(1,0)"
   ]
  },
  {
   "cell_type": "code",
   "execution_count": 90,
   "metadata": {},
   "outputs": [],
   "source": [
    "parameters = {\n",
    "    'in_dim': 10,\n",
    "    'n_class': 10,\n",
    "    'f_encoder': simple_encoder_wthreshold(1000, 10, 0),\n",
    "    'f_initializer': uniform_initializer,\n",
    "    'encoder_multiplier': 100,\n",
    "    'epsilon': 10e-3,\n",
    "    'n_layers': 1,\n",
    "    'layer_size_factor': [1],\n",
    "    'dropout': [-1]\n",
    "}"
   ]
  },
  {
   "cell_type": "code",
   "execution_count": 91,
   "metadata": {},
   "outputs": [],
   "source": [
    "device = torch.device(\"cuda:0\")\n",
    "model1 = One_hot_net(parameters['in_dim'], parameters['n_class'], parameters['f_encoder'], parameters['encoder_multiplier'], \n",
    "                     parameters['f_initializer'], parameters['epsilon']).to(device)\n",
    "\n",
    "optimizer1 = torch.optim.SGD(model1.parameters(), lr=0.005, momentum=0.5)\n"
   ]
  },
  {
   "cell_type": "code",
   "execution_count": 92,
   "metadata": {},
   "outputs": [
    {
     "name": "stdout",
     "output_type": "stream",
     "text": [
      "torch.Size([10, 500])\n"
     ]
    }
   ],
   "source": [
    "#create training and testing set\n",
    "def make_data(size):\n",
    "    data = torch.rand(size) * classes\n",
    "    return data.long()\n",
    "\n",
    "n_epochs = 100\n",
    "n_batch = 200\n",
    "batch_size_train = 500\n",
    "batch_size_test = 500\n",
    "\n",
    "train_loader = [secret_key[:, make_data(500)] for i in range(n_batch)]\n",
    "test_loader = [secret_key[:, make_data(500)] for i in range(n_batch)]\n",
    "\n",
    "print(train_loader[0].shape)"
   ]
  },
  {
   "cell_type": "code",
   "execution_count": 93,
   "metadata": {},
   "outputs": [],
   "source": [
    "train_losses = []\n",
    "test_losses = []"
   ]
  },
  {
   "cell_type": "code",
   "execution_count": 94,
   "metadata": {},
   "outputs": [],
   "source": [
    "def train(epoch, model, optimizer, trainloader, log_interval = 10, device = torch.device(\"cuda:0\")):\n",
    "    model.train()\n",
    "    train_loss = 0\n",
    "    for batch_idx, data in enumerate(train_loader):\n",
    "        data = data.to(device)\n",
    "        optimizer.zero_grad()\n",
    "        output = model(data)\n",
    "        loss = nn.MSELoss()(output, data)\n",
    "        loss.backward()\n",
    "        optimizer.step()\n",
    "        train_loss += loss\n",
    "    train_loss /= len(train_loader)\n",
    "    train_losses.append(float(train_loss))\n",
    "    print('Epoch: {}, Train set: Avg. loss: {:.6f}'.format(epoch,\n",
    "        train_loss))\n",
    "    return model, optimizer\n",
    "def test(model, test_loader, device = torch.device(\"cuda:0\")):\n",
    "    model.eval()\n",
    "    test_loss = 0\n",
    "    with torch.no_grad():\n",
    "        for data in test_loader:\n",
    "            data = data.to(device)\n",
    "            output = model(data)\n",
    "            test_loss += nn.MSELoss()(output, data).item()\n",
    "    test_loss /= len(test_loader)\n",
    "    test_losses.append(float(test_loss))\n",
    "    #print(output[:,0]-data[:,0])\n",
    "    print('Test set: Avg. loss: {:.6f}'.format(\n",
    "        test_loss))\n",
    "    return test_loss"
   ]
  },
  {
   "cell_type": "code",
   "execution_count": 95,
   "metadata": {},
   "outputs": [
    {
     "name": "stdout",
     "output_type": "stream",
     "text": [
      "Epoch: 1, Train set: Avg. loss: 0.518317\n",
      "Test set: Avg. loss: 0.198323\n",
      "Epoch: 2, Train set: Avg. loss: 0.160629\n",
      "Test set: Avg. loss: 0.140666\n",
      "Epoch: 3, Train set: Avg. loss: 0.135653\n",
      "Test set: Avg. loss: 0.130570\n",
      "Epoch: 4, Train set: Avg. loss: 0.126191\n",
      "Test set: Avg. loss: 0.123714\n",
      "Epoch: 5, Train set: Avg. loss: 0.120896\n",
      "Test set: Avg. loss: 0.119684\n",
      "Epoch: 6, Train set: Avg. loss: 0.116661\n",
      "Test set: Avg. loss: 0.114497\n",
      "Epoch: 7, Train set: Avg. loss: 0.112103\n",
      "Test set: Avg. loss: 0.109015\n",
      "Epoch: 8, Train set: Avg. loss: 0.107045\n",
      "Test set: Avg. loss: 0.105983\n",
      "Epoch: 9, Train set: Avg. loss: 0.105503\n",
      "Test set: Avg. loss: 0.104672\n",
      "Epoch: 10, Train set: Avg. loss: 0.102252\n",
      "Test set: Avg. loss: 0.100265\n",
      "Epoch: 11, Train set: Avg. loss: 0.099806\n",
      "Test set: Avg. loss: 0.098326\n",
      "Epoch: 12, Train set: Avg. loss: 0.098636\n",
      "Test set: Avg. loss: 0.096718\n",
      "Epoch: 13, Train set: Avg. loss: 0.096929\n",
      "Test set: Avg. loss: 0.095227\n",
      "Epoch: 14, Train set: Avg. loss: 0.095274\n",
      "Test set: Avg. loss: 0.093749\n",
      "Epoch: 15, Train set: Avg. loss: 0.094348\n",
      "Test set: Avg. loss: 0.093725\n",
      "Epoch: 16, Train set: Avg. loss: 0.093138\n",
      "Test set: Avg. loss: 0.092624\n",
      "Epoch: 17, Train set: Avg. loss: 0.091947\n",
      "Test set: Avg. loss: 0.091991\n",
      "Epoch: 18, Train set: Avg. loss: 0.091223\n",
      "Test set: Avg. loss: 0.090797\n",
      "Epoch: 19, Train set: Avg. loss: 0.090990\n",
      "Test set: Avg. loss: 0.090894\n",
      "Epoch: 20, Train set: Avg. loss: 0.090098\n",
      "Test set: Avg. loss: 0.089838\n",
      "Epoch: 21, Train set: Avg. loss: 0.089946\n",
      "Test set: Avg. loss: 0.090008\n",
      "Epoch: 22, Train set: Avg. loss: 0.089844\n",
      "Test set: Avg. loss: 0.089363\n",
      "Epoch: 23, Train set: Avg. loss: 0.089442\n",
      "Test set: Avg. loss: 0.088835\n",
      "Epoch: 24, Train set: Avg. loss: 0.090016\n",
      "Test set: Avg. loss: 0.088128\n",
      "Epoch: 25, Train set: Avg. loss: 0.088703\n",
      "Test set: Avg. loss: 0.088561\n",
      "Epoch: 26, Train set: Avg. loss: 0.088082\n",
      "Test set: Avg. loss: 0.089321\n",
      "Epoch: 27, Train set: Avg. loss: 0.088641\n",
      "Test set: Avg. loss: 0.087428\n",
      "Epoch: 28, Train set: Avg. loss: 0.088839\n",
      "Test set: Avg. loss: 0.087644\n",
      "Epoch: 29, Train set: Avg. loss: 0.088354\n",
      "Test set: Avg. loss: 0.087822\n",
      "Epoch: 30, Train set: Avg. loss: 0.088082\n",
      "Test set: Avg. loss: 0.088352\n",
      "Epoch: 31, Train set: Avg. loss: 0.088165\n",
      "Test set: Avg. loss: 0.088125\n",
      "Epoch: 32, Train set: Avg. loss: 0.087911\n",
      "Test set: Avg. loss: 0.088122\n",
      "Epoch: 33, Train set: Avg. loss: 0.087991\n",
      "Test set: Avg. loss: 0.088674\n",
      "Epoch: 34, Train set: Avg. loss: 0.087257\n",
      "Test set: Avg. loss: 0.088163\n",
      "Epoch: 35, Train set: Avg. loss: 0.087826\n",
      "Test set: Avg. loss: 0.087305\n",
      "Epoch: 36, Train set: Avg. loss: 0.088171\n",
      "Test set: Avg. loss: 0.088121\n",
      "Epoch: 37, Train set: Avg. loss: 0.087699\n",
      "Test set: Avg. loss: 0.088486\n",
      "Epoch: 38, Train set: Avg. loss: 0.087375\n",
      "Test set: Avg. loss: 0.088074\n",
      "Epoch: 39, Train set: Avg. loss: 0.086103\n",
      "Test set: Avg. loss: 0.086986\n",
      "Epoch: 40, Train set: Avg. loss: 0.087636\n",
      "Test set: Avg. loss: 0.088295\n",
      "Epoch: 41, Train set: Avg. loss: 0.087683\n",
      "Test set: Avg. loss: 0.087796\n",
      "Epoch: 42, Train set: Avg. loss: 0.087643\n",
      "Test set: Avg. loss: 0.087725\n",
      "Epoch: 43, Train set: Avg. loss: 0.088185\n",
      "Test set: Avg. loss: 0.088630\n",
      "Epoch: 44, Train set: Avg. loss: 0.087934\n",
      "Test set: Avg. loss: 0.088541\n",
      "Epoch: 45, Train set: Avg. loss: 0.087559\n",
      "Test set: Avg. loss: 0.087320\n",
      "Epoch: 46, Train set: Avg. loss: 0.087270\n",
      "Test set: Avg. loss: 0.088064\n",
      "Epoch: 47, Train set: Avg. loss: 0.086863\n",
      "Test set: Avg. loss: 0.088729\n",
      "Epoch: 48, Train set: Avg. loss: 0.087375\n",
      "Test set: Avg. loss: 0.089073\n",
      "Epoch: 49, Train set: Avg. loss: 0.087819\n",
      "Test set: Avg. loss: 0.086909\n",
      "Epoch: 50, Train set: Avg. loss: 0.087149\n",
      "Test set: Avg. loss: 0.087301\n",
      "Epoch: 51, Train set: Avg. loss: 0.088422\n",
      "Test set: Avg. loss: 0.088296\n",
      "Epoch: 52, Train set: Avg. loss: 0.087421\n",
      "Test set: Avg. loss: 0.087496\n",
      "Epoch: 53, Train set: Avg. loss: 0.087913\n",
      "Test set: Avg. loss: 0.087229\n",
      "Epoch: 54, Train set: Avg. loss: 0.087346\n",
      "Test set: Avg. loss: 0.087867\n",
      "Epoch: 55, Train set: Avg. loss: 0.087697\n",
      "Test set: Avg. loss: 0.087683\n",
      "Epoch: 56, Train set: Avg. loss: 0.087881\n",
      "Test set: Avg. loss: 0.087144\n",
      "Epoch: 57, Train set: Avg. loss: 0.087996\n",
      "Test set: Avg. loss: 0.087624\n",
      "Epoch: 58, Train set: Avg. loss: 0.087166\n",
      "Test set: Avg. loss: 0.087554\n",
      "Epoch: 59, Train set: Avg. loss: 0.087593\n",
      "Test set: Avg. loss: 0.088346\n",
      "Epoch: 60, Train set: Avg. loss: 0.087273\n",
      "Test set: Avg. loss: 0.087766\n",
      "Epoch: 61, Train set: Avg. loss: 0.087567\n",
      "Test set: Avg. loss: 0.088088\n",
      "Epoch: 62, Train set: Avg. loss: 0.087559\n",
      "Test set: Avg. loss: 0.087154\n",
      "Epoch: 63, Train set: Avg. loss: 0.088301\n",
      "Test set: Avg. loss: 0.087509\n",
      "Epoch: 64, Train set: Avg. loss: 0.087314\n",
      "Test set: Avg. loss: 0.087958\n",
      "Epoch: 65, Train set: Avg. loss: 0.087416\n",
      "Test set: Avg. loss: 0.087185\n",
      "Epoch: 66, Train set: Avg. loss: 0.087948\n",
      "Test set: Avg. loss: 0.088270\n",
      "Epoch: 67, Train set: Avg. loss: 0.087516\n",
      "Test set: Avg. loss: 0.087654\n",
      "Epoch: 68, Train set: Avg. loss: 0.087460\n",
      "Test set: Avg. loss: 0.087849\n",
      "Epoch: 69, Train set: Avg. loss: 0.087615\n",
      "Test set: Avg. loss: 0.088203\n",
      "Epoch: 70, Train set: Avg. loss: 0.087301\n",
      "Test set: Avg. loss: 0.087743\n",
      "Epoch: 71, Train set: Avg. loss: 0.087499\n",
      "Test set: Avg. loss: 0.088350\n",
      "Epoch: 72, Train set: Avg. loss: 0.087204\n",
      "Test set: Avg. loss: 0.087479\n",
      "Epoch: 73, Train set: Avg. loss: 0.088048\n",
      "Test set: Avg. loss: 0.087158\n",
      "Epoch: 74, Train set: Avg. loss: 0.087707\n",
      "Test set: Avg. loss: 0.087210\n",
      "Epoch: 75, Train set: Avg. loss: 0.087164\n",
      "Test set: Avg. loss: 0.087246\n",
      "Epoch: 76, Train set: Avg. loss: 0.087880\n",
      "Test set: Avg. loss: 0.088717\n",
      "Epoch: 77, Train set: Avg. loss: 0.087313\n",
      "Test set: Avg. loss: 0.087498\n",
      "Epoch: 78, Train set: Avg. loss: 0.087281\n",
      "Test set: Avg. loss: 0.087818\n",
      "Epoch: 79, Train set: Avg. loss: 0.087548\n",
      "Test set: Avg. loss: 0.087314\n",
      "Epoch: 80, Train set: Avg. loss: 0.087388\n",
      "Test set: Avg. loss: 0.087509\n",
      "Epoch: 81, Train set: Avg. loss: 0.087836\n",
      "Test set: Avg. loss: 0.086964\n",
      "Epoch: 82, Train set: Avg. loss: 0.087516\n",
      "Test set: Avg. loss: 0.087224\n",
      "Epoch: 83, Train set: Avg. loss: 0.088063\n",
      "Test set: Avg. loss: 0.087975\n",
      "Epoch: 84, Train set: Avg. loss: 0.087728\n",
      "Test set: Avg. loss: 0.087863\n",
      "Epoch: 85, Train set: Avg. loss: 0.087886\n",
      "Test set: Avg. loss: 0.087559\n",
      "Epoch: 86, Train set: Avg. loss: 0.087542\n",
      "Test set: Avg. loss: 0.087344\n",
      "Epoch: 87, Train set: Avg. loss: 0.087476\n",
      "Test set: Avg. loss: 0.087559\n",
      "Epoch: 88, Train set: Avg. loss: 0.086634\n",
      "Test set: Avg. loss: 0.088103\n",
      "Epoch: 89, Train set: Avg. loss: 0.088137\n",
      "Test set: Avg. loss: 0.088032\n",
      "Epoch: 90, Train set: Avg. loss: 0.086822\n",
      "Test set: Avg. loss: 0.087242\n",
      "Epoch: 91, Train set: Avg. loss: 0.087935\n",
      "Test set: Avg. loss: 0.087631\n",
      "Epoch: 92, Train set: Avg. loss: 0.088124\n",
      "Test set: Avg. loss: 0.087561\n",
      "Epoch: 93, Train set: Avg. loss: 0.087510\n",
      "Test set: Avg. loss: 0.087267\n",
      "Epoch: 94, Train set: Avg. loss: 0.087654\n",
      "Test set: Avg. loss: 0.088089\n",
      "Epoch: 95, Train set: Avg. loss: 0.086831\n",
      "Test set: Avg. loss: 0.087985\n",
      "Epoch: 96, Train set: Avg. loss: 0.087759\n",
      "Test set: Avg. loss: 0.088227\n",
      "Epoch: 97, Train set: Avg. loss: 0.086783\n",
      "Test set: Avg. loss: 0.087643\n",
      "Epoch: 98, Train set: Avg. loss: 0.087485\n",
      "Test set: Avg. loss: 0.086977\n",
      "Epoch: 99, Train set: Avg. loss: 0.087806\n",
      "Test set: Avg. loss: 0.088050\n",
      "Epoch: 100, Train set: Avg. loss: 0.087742\n",
      "Test set: Avg. loss: 0.088016\n"
     ]
    }
   ],
   "source": [
    "model_name = \"crypto_net1\"\n",
    "for epoch in range(1, n_epochs + 1):\n",
    "    train(epoch, model1, optimizer1, train_loader)\n",
    "    test(model1, test_loader)"
   ]
  },
  {
   "cell_type": "code",
   "execution_count": 96,
   "metadata": {},
   "outputs": [
    {
     "name": "stdout",
     "output_type": "stream",
     "text": [
      "100 100\n"
     ]
    }
   ],
   "source": [
    "print(len(train_losses), len(test_losses))\n",
    "#print(train_losses)"
   ]
  },
  {
   "cell_type": "code",
   "execution_count": 97,
   "metadata": {},
   "outputs": [
    {
     "data": {
      "image/png": "[encoded data removed]",
      "text/plain": [
       "<Figure size 432x288 with 1 Axes>"
      ]
     },
     "metadata": {
      "needs_background": "light"
     },
     "output_type": "display_data"
    }
   ],
   "source": [
    "import matplotlib.pyplot as plt\n",
    "\n",
    "plt.plot(range(len(train_losses)), train_losses, color='blue')\n",
    "plt.scatter(range(len(test_losses)), test_losses, color='red')\n",
    "plt.legend(['Train Loss', 'Test Loss'], loc='upper right')\n",
    "plt.xlabel('number of training epochs')\n",
    "plt.ylabel('MSE loss')\n",
    "plt.show()"
   ]
  },
  {
   "cell_type": "code",
   "execution_count": 98,
   "metadata": {},
   "outputs": [],
   "source": [
    "#Testing Encoded sentence\n",
    "message = \"It is time to test the model on real-world data\"#. We must choose a sentence and an image. We choose the following sentence from Wikipedia: Anthony Edward \\\"Tony\\\" Stark is a character portrayed by Robert Downey Jr. in the MCU film franchise and for the image, we use the same Tony Stark’s image from the beginning of the article. The following code is used to embedding and extracting the message:\"\n"
   ]
  },
  {
   "cell_type": "code",
   "execution_count": 99,
   "metadata": {},
   "outputs": [
    {
     "name": "stdout",
     "output_type": "stream",
     "text": [
      "[41, 84, 0, 73, 83, 0, 84, 73, 77, 69, 0, 84, 79, 0, 84, 69, 83, 84, 0, 84, 72, 69, 0, 77, 79, 68, 69, 76, 0, 79, 78, 0, 82, 69, 65, 76, 13, 87, 79, 82, 76, 68, 0, 68, 65, 84, 65]\n",
      "tensor([ 0.0208, -0.5479,  0.3699, -0.5435, -0.2456,  0.0691, -0.2448,  0.1447,\n",
      "         0.2614, -0.2412], device='cuda:0', grad_fn=<SubBackward0>)\n"
     ]
    }
   ],
   "source": [
    "message_index = [(ord(c)-32) for c in message]\n",
    "print(message_index)\n",
    "secret_message = secret_key[:, message_index]#.to(device)\n",
    "output = model1(secret_message)\n",
    "print(output[:,0]-secret_message[:,0])"
   ]
  },
  {
   "cell_type": "code",
   "execution_count": null,
   "metadata": {},
   "outputs": [],
   "source": []
  },
  {
   "cell_type": "code",
   "execution_count": 100,
   "metadata": {},
   "outputs": [],
   "source": [
    "def encrypt(message, model, secret_key):\n",
    "    message_index = [(ord(c)-32) for c in message]\n",
    "    print(message_index)\n",
    "    #print(secret_key)\n",
    "    #sk = secret_key.cpu()\n",
    "    #print(sk.shape, sk.device)\n",
    "    secret_message = secret_key[:, message_index]#.to(device)\n",
    "    print(secret_message[:,0])\n",
    "    return model.f_encoder.apply_wnoise(secret_message, noise)"
   ]
  },
  {
   "cell_type": "code",
   "execution_count": 101,
   "metadata": {},
   "outputs": [
    {
     "name": "stdout",
     "output_type": "stream",
     "text": [
      "[41, 84, 0, 73, 83, 0, 84, 73, 77, 69, 0, 84, 79, 0, 84, 69, 83, 84, 0, 84, 72, 69, 0, 77, 79, 68, 69, 76, 0, 79, 78, 0, 82, 69, 65, 76, 13, 87, 79, 82, 76, 68, 0, 68, 65, 84, 65]\n",
      "tensor([ 0.4421,  1.5233, -1.5746,  1.3358,  1.4714, -1.8763, -0.1206, -1.6462,\n",
      "        -1.1984,  0.5341], device='cuda:0')\n"
     ]
    }
   ],
   "source": [
    "encrypted_message = encrypt(message, model1, secret_key)"
   ]
  },
  {
   "cell_type": "code",
   "execution_count": 102,
   "metadata": {},
   "outputs": [
    {
     "name": "stdout",
     "output_type": "stream",
     "text": [
      "tensor([[1., 0., 1.,  ..., 0., 0., 0.],\n",
      "        [1., 1., 0.,  ..., 0., 1., 0.],\n",
      "        [1., 0., 1.,  ..., 1., 0., 1.],\n",
      "        ...,\n",
      "        [0., 0., 1.,  ..., 0., 0., 0.],\n",
      "        [0., 0., 1.,  ..., 0., 0., 0.],\n",
      "        [1., 1., 0.,  ..., 0., 1., 0.]], device='cuda:0') torch.Size([1000, 47])\n"
     ]
    }
   ],
   "source": [
    "print(encrypted_message, encrypted_message.shape)"
   ]
  },
  {
   "cell_type": "code",
   "execution_count": 103,
   "metadata": {},
   "outputs": [],
   "source": [
    "def determine_letter(vec, secret_key):\n",
    "    ind=torch.argmin(torch.norm(secret_key-vec,dim=0))\n",
    "    #print(ind)\n",
    "    return chr(ind+32)\n",
    "\n",
    "def decrypt(encrypted_message, model, secret_key):\n",
    "    m = \"\"\n",
    "    raw_m = model.decrypt(encrypted_message)\n",
    "    #print(raw_m[:,0], secret_key[:,41], torch.norm(raw_m[:,0]-secret_key[:,41]))\n",
    "    for i in range(raw_m.shape[1]):\n",
    "        m+=(determine_letter(raw_m[:,i].view(raw_m.shape[0],1),secret_key))\n",
    "    return m"
   ]
  },
  {
   "cell_type": "code",
   "execution_count": 104,
   "metadata": {},
   "outputs": [
    {
     "name": "stdout",
     "output_type": "stream",
     "text": [
      "It is time to test the model on real-world data\n"
     ]
    }
   ],
   "source": [
    "decrypted_m = decrypt(encrypted_message, model1, secret_key)\n",
    "print(decrypted_m)"
   ]
  },
  {
   "cell_type": "code",
   "execution_count": null,
   "metadata": {},
   "outputs": [],
   "source": []
  }
 ],
 "metadata": {
  "kernelspec": {
   "display_name": "Python 3",
   "language": "python",
   "name": "python3"
  },
  "language_info": {
   "codemirror_mode": {
    "name": "ipython",
    "version": 3
   },
   "file_extension": ".py",
   "mimetype": "text/x-python",
   "name": "python",
   "nbconvert_exporter": "python",
   "pygments_lexer": "ipython3",
   "version": "3.8.5"
  }
 },
 "nbformat": 4,
 "nbformat_minor": 4
}
